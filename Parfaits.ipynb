{
 "cells": [
  {
   "cell_type": "markdown",
   "id": "0f77a31a",
   "metadata": {},
   "source": [
    "# Mode d’emploi\n",
    "\n",
    "\n",
    "Ce document est constitué\n",
    "- de cellules contenant du texte (comme celle-ci),\n",
    "- de cellules contenant du code Python que vous pouvez modifier en cliquant dans la cellule, et executer en utilisant $\\boxed{Ctrl}$ + $\\boxed{Entr\\acute{e}e}$ (le résultat apparaitra dans les lignes suivant la cellule).\n",
    "\n",
    "Dans les cellules contenant du code, il y a parfois des commentaires, qui commencent par le symbole `#`."
   ]
  },
  {
   "cell_type": "markdown",
   "id": "0c6261c1",
   "metadata": {},
   "source": [
    "## Exercice 1 : division euclidienne et reste\n",
    "Un nombre *n* est divisible par un nombre *d*, si le reste de la division euclidienne de *n* par *d* vaut 0.\n",
    "\n",
    "Par exemple : \n",
    "- le reste de la division euclidienne de 30 par 3 est 0 car 30 = 3×10 + 0, donc 30 est divisible par 3.\n",
    "- le reste de la division euclidienne de 30 par 4 est 2 car 30 = 4×7 + 2, donc 30 n’est pas divisible par 2.\n",
    "\n",
    "Dans le langage Python, le reste de la division euclidienne de *n* par *d* se note `n % d`.\n",
    "\n",
    "Par exemple : le calcul `30 % 3` donne 0 et le calcul `30 % 4` donne 2.\n",
    "\n",
    "**Question 1** Vérifier les deux affirmations en utilisant le code ci-dessous, puis \n",
    "- déterminer si 851 est divisible par 23,\n",
    "- déterminer quels nombres parmi 17, 23, 29, 59 divisent 2006."
   ]
  },
  {
   "cell_type": "code",
   "execution_count": null,
   "id": "259221e3",
   "metadata": {},
   "outputs": [],
   "source": [
    "2006 % 17"
   ]
  },
  {
   "cell_type": "markdown",
   "id": "b56c169f",
   "metadata": {},
   "source": [
    "## Exercice 2 : une fonction et un test\n",
    "On va créer une fonction `divise` ayant deux paramètres `d` et `n` et qui répondra `oui` si `d` divise `n` et `non` sinon.\n",
    "\n",
    "Une **fonction** Python est définie par l’instruction `def`, suivie du nom de la fonction, puis des paramètres entre parenthèses, et du symbole `:`.\n",
    "\n",
    "\n",
    "Pour effectuer un **test** dans le langage python, on utilise l’instruction `if` (si), suivie de ce qu’on veut tester et du symbole `:`. Les instructions indentées suivantes seront exécutées si le test est vrai.\n",
    "Pour executer des instructions si le test est faux, on utilise l’instruction `else` (autre) suivie de `:`.\n",
    "\n",
    "Remarque : une égalité se teste en utilisant le symbole `==` (deux symboles =).\n",
    "\n",
    "\n",
    "**Question 2** Essayer de comprendre et de compléter la fonction Python suivante, puis executer le code (si le code n’est pas complet, un message d’erreur s’affichera)."
   ]
  },
  {
   "cell_type": "code",
   "execution_count": null,
   "id": "decc543c",
   "metadata": {},
   "outputs": [],
   "source": [
    "def divise (d,n):        # On définit la fonction divise, qui a pour paramètres d et n\n",
    "    if n % d == 0:       # On teste (avec deux symboles =) si le reste de la division euclidienne de n par d vaut 0\n",
    "        return \"oui\"     # et dans ce cas on retourne le texte \"oui\",\n",
    "    else:                # sinon,\n",
    "                         # on retourne le texte \"non\" (ligne à compléter).\n",
    "        "
   ]
  },
  {
   "cell_type": "markdown",
   "id": "60489c13",
   "metadata": {},
   "source": [
    "**Question 3** Tester la fonction dans la cellule suivante, avec les mêmes valeurs que dans la question 1."
   ]
  },
  {
   "cell_type": "code",
   "execution_count": null,
   "id": "24335e5d",
   "metadata": {},
   "outputs": [],
   "source": [
    "divise(3,30)"
   ]
  },
  {
   "cell_type": "markdown",
   "id": "bdcc06c3",
   "metadata": {},
   "source": [
    "## Exercice 3 : une boucle\n",
    "\n",
    "Pour répéter plusieurs fois une même suite d’instruction, on peut utiliser le mot `for` (pour).\n",
    "\n",
    "Le code suivant permet de répeter l’instruction `print(d)` pour toutes les valeurs `d` de `range(10)` (on verra dans la suite ce que c’est).\n",
    "\n",
    "\n",
    "**Question 4** Executer le code suivant. De quelle valeur à quelle valeur varie la variable `d` ?\n",
    "\n"
   ]
  },
  {
   "cell_type": "code",
   "execution_count": null,
   "id": "edae4b9e",
   "metadata": {},
   "outputs": [],
   "source": [
    "for d in range(10):\n",
    "    print(d)                  # l’instruction print (imprimer) affiche le nombre d"
   ]
  },
  {
   "cell_type": "markdown",
   "id": "3d19a778",
   "metadata": {},
   "source": [
    "**Question 5** Dans le code précédent, remplacer `range(10)` par les expressions suivantes, et observer le résultat :\n",
    "- par `range(8)`, `range(15)`,\n",
    "- par `range(0,10)`, `range(3,10)`, `range(5,20)`.\n",
    "\n",
    "Par quoi doit-on remplacer pour obtenir 2006, 2007, 2008, 2009, 2010, 2011, 2012, 2013, 2014, 2015, 2016, 2017, 2018, 2018, 2020, 2021, 2022 ?\n"
   ]
  },
  {
   "cell_type": "markdown",
   "id": "14edee99",
   "metadata": {},
   "source": [
    "## Exercice 4 : liste des diviseurs\n",
    "On va créer une fonction `diviseurs` qui affichera la liste des diviseurs d’un entier `n`.\n",
    "\n",
    "Pour chaque entier `d` entre 1 et `n`, on va tester si cet entier divise `n`. Si c’est le cas, on l’affichera (sinon on ne fera rien).\n",
    "\n",
    "**Question 6** Compléter la fonction `diviseurs` suivante, puis exécuter le code. Si la fonction est incomplète, un message d’erreur s’affichera."
   ]
  },
  {
   "cell_type": "code",
   "execution_count": null,
   "id": "2a0ef016",
   "metadata": {},
   "outputs": [],
   "source": [
    "def diviseurs(n):\n",
    "    for d in                          # À compléter pour que d varie de 1 à n\n",
    "        if                            # À compléter pour tester si d divise n\n",
    "            print(d)"
   ]
  },
  {
   "cell_type": "markdown",
   "id": "0ef91ff0",
   "metadata": {},
   "source": [
    "**Question 7** Tester la fonction `liste` dans la cellule suivante, et trouver la liste des diviseurs de 10, 20, 28, 30, 60, 100."
   ]
  },
  {
   "cell_type": "code",
   "execution_count": null,
   "id": "97471d9d",
   "metadata": {},
   "outputs": [],
   "source": [
    "diviseurs(10)"
   ]
  },
  {
   "cell_type": "markdown",
   "id": "df80a92a",
   "metadata": {},
   "source": [
    "## Exercice 5 : somme des diviseurs propres\n",
    "On va créer une fonction `somme` qui retournera la somme des diviseurs propres d’un entier `n`.\n",
    "\n",
    "On utilise une variable `S` à laquelle on affecte d’abord la valeur 0.\n",
    "Pour chaque entier `d` entre 1 et `n-1`, on va tester si cet entier divise `n`. Si c’est le cas, on ajoutera `d` à la variable `S`.\n",
    "Finalement, on retourne la valeur de `S`.\n",
    "\n",
    "**Question 8** Compléter la fonction `somme` suivante, puis exécuter le code. Si la fonction est incomplète, un message d’erreur s’affichera."
   ]
  },
  {
   "cell_type": "code",
   "execution_count": null,
   "id": "c3b94778",
   "metadata": {},
   "outputs": [],
   "source": [
    "def somme(n):\n",
    "    S = 0                             # La variable S est initialisée à 0\n",
    "    for d in                          # À compléter pour que d varie de 1 à n-1\n",
    "        if                            # À compléter pour tester si d divise n\n",
    "            S =                       # À compléter pour ajouter d à la variable S\n",
    "    return S"
   ]
  },
  {
   "cell_type": "markdown",
   "id": "aff7054b",
   "metadata": {},
   "source": [
    "**Question 9** En utilisant la fonction `somme` dans la cellule suivante, déterminer lesquels des nombres suivants sont parfaits (c’est-à-dire égaux à la somme de leurs diviseurs propres) : 6, 28, 120, 220, 284, 496.\n",
    "\n",
    "Qu’est-ce que les nombres 220 et 284 ont de particulier ?"
   ]
  },
  {
   "cell_type": "code",
   "execution_count": null,
   "id": "8b137bb8",
   "metadata": {},
   "outputs": [],
   "source": [
    "somme(6)"
   ]
  },
  {
   "cell_type": "markdown",
   "id": "72985777",
   "metadata": {},
   "source": [
    "**Question 10** En utilisant une boucle et un test, déterminer tous les nombres parfaits inférieurs à 10000."
   ]
  },
  {
   "cell_type": "code",
   "execution_count": null,
   "id": "b99c78a7",
   "metadata": {},
   "outputs": [],
   "source": [
    "for n in range(1,10001):\n",
    "    "
   ]
  }
 ],
 "metadata": {
  "kernelspec": {
   "display_name": "Python 3 (ipykernel)",
   "language": "python",
   "name": "python3"
  },
  "language_info": {
   "codemirror_mode": {
    "name": "ipython",
    "version": 3
   },
   "file_extension": ".py",
   "mimetype": "text/x-python",
   "name": "python",
   "nbconvert_exporter": "python",
   "pygments_lexer": "ipython3",
   "version": "3.9.7"
  }
 },
 "nbformat": 4,
 "nbformat_minor": 5
}
